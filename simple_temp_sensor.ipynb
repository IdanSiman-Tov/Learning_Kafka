{
 "cells": [
  {
   "cell_type": "code",
   "execution_count": 1,
   "metadata": {},
   "outputs": [
    {
     "name": "stdout",
     "output_type": "stream",
     "text": [
      "Sent: {'sensor_id': 'sensor_1', 'temperature_celsius': 20.04767003828712}\n",
      "Sent: {'sensor_id': 'sensor_1', 'temperature_celsius': 28.851360954902056}\n",
      "Sent: {'sensor_id': 'sensor_1', 'temperature_celsius': 26.45123829366633}\n",
      "Sent: {'sensor_id': 'sensor_1', 'temperature_celsius': 20.633674825965578}\n",
      "Sent: {'sensor_id': 'sensor_1', 'temperature_celsius': 28.863455746038184}\n",
      "Sent: {'sensor_id': 'sensor_1', 'temperature_celsius': 20.83606002236788}\n",
      "Sent: {'sensor_id': 'sensor_1', 'temperature_celsius': 22.19183824074376}\n",
      "Sent: {'sensor_id': 'sensor_1', 'temperature_celsius': 20.695726175634086}\n",
      "Sent: {'sensor_id': 'sensor_1', 'temperature_celsius': 24.21892812173479}\n",
      "Sent: {'sensor_id': 'sensor_1', 'temperature_celsius': 20.234915494661184}\n"
     ]
    }
   ],
   "source": [
    "from kafka import KafkaProducer\n",
    "import time\n",
    "import json\n",
    "import random\n",
    "\n",
    "# Create a Kafka producer\n",
    "producer = KafkaProducer(bootstrap_servers='localhost:9092', \n",
    "                         value_serializer=lambda v: json.dumps(v).encode('utf-8'))\n",
    "\n",
    "# Simulate sending temperature data\n",
    "for _ in range(10):\n",
    "    temperature_data = {'sensor_id': 'sensor_1', 'temperature_celsius': random.uniform(20.0, 30.0)}\n",
    "    producer.send('temperature_readings', temperature_data)\n",
    "    print(f\"Sent: {temperature_data}\")\n",
    "    time.sleep(1)  # Simulate data coming in every second\n",
    "\n",
    "producer.flush()\n",
    "producer.close()\n"
   ]
  },
  {
   "cell_type": "code",
   "execution_count": 2,
   "metadata": {},
   "outputs": [
    {
     "name": "stdout",
     "output_type": "stream",
     "text": [
      "Received sensor data: {'sensor_id': 'sensor_1', 'temperature_celsius': 27.04656711744542}\n",
      "Converted temperature: 80.68°F\n",
      "Received sensor data: {'sensor_id': 'sensor_1', 'temperature_celsius': 29.331151282229342}\n",
      "Converted temperature: 84.80°F\n",
      "Received sensor data: {'sensor_id': 'sensor_1', 'temperature_celsius': 23.93018564285076}\n",
      "Converted temperature: 75.07°F\n",
      "Received sensor data: {'sensor_id': 'sensor_1', 'temperature_celsius': 23.467464234042083}\n",
      "Converted temperature: 74.24°F\n",
      "Received sensor data: {'sensor_id': 'sensor_1', 'temperature_celsius': 26.758098805203556}\n",
      "Converted temperature: 80.16°F\n",
      "Received sensor data: {'sensor_id': 'sensor_1', 'temperature_celsius': 24.63807057807208}\n",
      "Converted temperature: 76.35°F\n",
      "Received sensor data: {'sensor_id': 'sensor_1', 'temperature_celsius': 21.343074108112386}\n",
      "Converted temperature: 70.42°F\n",
      "Received sensor data: {'sensor_id': 'sensor_1', 'temperature_celsius': 25.85138322289007}\n",
      "Converted temperature: 78.53°F\n",
      "Received sensor data: {'sensor_id': 'sensor_1', 'temperature_celsius': 25.300371356741874}\n",
      "Converted temperature: 77.54°F\n",
      "Received sensor data: {'sensor_id': 'sensor_1', 'temperature_celsius': 27.45478476746079}\n",
      "Converted temperature: 81.42°F\n",
      "Received sensor data: {'sensor_id': 'sensor_1', 'temperature_celsius': 20.04767003828712}\n",
      "Converted temperature: 68.09°F\n",
      "Received sensor data: {'sensor_id': 'sensor_1', 'temperature_celsius': 28.851360954902056}\n",
      "Converted temperature: 83.93°F\n",
      "Received sensor data: {'sensor_id': 'sensor_1', 'temperature_celsius': 26.45123829366633}\n",
      "Converted temperature: 79.61°F\n",
      "Received sensor data: {'sensor_id': 'sensor_1', 'temperature_celsius': 20.633674825965578}\n",
      "Converted temperature: 69.14°F\n",
      "Received sensor data: {'sensor_id': 'sensor_1', 'temperature_celsius': 28.863455746038184}\n",
      "Converted temperature: 83.95°F\n",
      "Received sensor data: {'sensor_id': 'sensor_1', 'temperature_celsius': 20.83606002236788}\n",
      "Converted temperature: 69.50°F\n",
      "Received sensor data: {'sensor_id': 'sensor_1', 'temperature_celsius': 22.19183824074376}\n",
      "Converted temperature: 71.95°F\n",
      "Received sensor data: {'sensor_id': 'sensor_1', 'temperature_celsius': 20.695726175634086}\n",
      "Converted temperature: 69.25°F\n",
      "Received sensor data: {'sensor_id': 'sensor_1', 'temperature_celsius': 24.21892812173479}\n",
      "Converted temperature: 75.59°F\n",
      "Received sensor data: {'sensor_id': 'sensor_1', 'temperature_celsius': 20.234915494661184}\n",
      "Converted temperature: 68.42°F\n"
     ]
    },
    {
     "ename": "KeyboardInterrupt",
     "evalue": "",
     "output_type": "error",
     "traceback": [
      "\u001b[0;31m---------------------------------------------------------------------------\u001b[0m",
      "\u001b[0;31mKeyboardInterrupt\u001b[0m                         Traceback (most recent call last)",
      "Cell \u001b[0;32mIn[2], line 11\u001b[0m\n\u001b[1;32m      5\u001b[0m consumer \u001b[38;5;241m=\u001b[39m KafkaConsumer(\u001b[38;5;124m'\u001b[39m\u001b[38;5;124mtemperature_readings\u001b[39m\u001b[38;5;124m'\u001b[39m,\n\u001b[1;32m      6\u001b[0m                          bootstrap_servers\u001b[38;5;241m=\u001b[39m\u001b[38;5;124m'\u001b[39m\u001b[38;5;124mlocalhost:9092\u001b[39m\u001b[38;5;124m'\u001b[39m,\n\u001b[1;32m      7\u001b[0m                          auto_offset_reset\u001b[38;5;241m=\u001b[39m\u001b[38;5;124m'\u001b[39m\u001b[38;5;124mearliest\u001b[39m\u001b[38;5;124m'\u001b[39m,\n\u001b[1;32m      8\u001b[0m                          value_deserializer\u001b[38;5;241m=\u001b[39m\u001b[38;5;28;01mlambda\u001b[39;00m x: json\u001b[38;5;241m.\u001b[39mloads(x\u001b[38;5;241m.\u001b[39mdecode(\u001b[38;5;124m'\u001b[39m\u001b[38;5;124mutf-8\u001b[39m\u001b[38;5;124m'\u001b[39m)))\n\u001b[1;32m     10\u001b[0m \u001b[38;5;66;03m# Process messages\u001b[39;00m\n\u001b[0;32m---> 11\u001b[0m \u001b[38;5;28;01mfor\u001b[39;00m message \u001b[38;5;129;01min\u001b[39;00m consumer:\n\u001b[1;32m     12\u001b[0m     data \u001b[38;5;241m=\u001b[39m message\u001b[38;5;241m.\u001b[39mvalue\n\u001b[1;32m     13\u001b[0m     temperature_fahrenheit \u001b[38;5;241m=\u001b[39m data[\u001b[38;5;124m'\u001b[39m\u001b[38;5;124mtemperature_celsius\u001b[39m\u001b[38;5;124m'\u001b[39m] \u001b[38;5;241m*\u001b[39m \u001b[38;5;241m9\u001b[39m\u001b[38;5;241m/\u001b[39m\u001b[38;5;241m5\u001b[39m \u001b[38;5;241m+\u001b[39m \u001b[38;5;241m32\u001b[39m\n",
      "File \u001b[0;32m/Library/Frameworks/Python.framework/Versions/3.8/lib/python3.8/site-packages/kafka/consumer/group.py:1193\u001b[0m, in \u001b[0;36mKafkaConsumer.__next__\u001b[0;34m(self)\u001b[0m\n\u001b[1;32m   1191\u001b[0m     \u001b[38;5;28;01mreturn\u001b[39;00m \u001b[38;5;28mself\u001b[39m\u001b[38;5;241m.\u001b[39mnext_v1()\n\u001b[1;32m   1192\u001b[0m \u001b[38;5;28;01melse\u001b[39;00m:\n\u001b[0;32m-> 1193\u001b[0m     \u001b[38;5;28;01mreturn\u001b[39;00m \u001b[38;5;28;43mself\u001b[39;49m\u001b[38;5;241;43m.\u001b[39;49m\u001b[43mnext_v2\u001b[49m\u001b[43m(\u001b[49m\u001b[43m)\u001b[49m\n",
      "File \u001b[0;32m/Library/Frameworks/Python.framework/Versions/3.8/lib/python3.8/site-packages/kafka/consumer/group.py:1201\u001b[0m, in \u001b[0;36mKafkaConsumer.next_v2\u001b[0;34m(self)\u001b[0m\n\u001b[1;32m   1199\u001b[0m     \u001b[38;5;28mself\u001b[39m\u001b[38;5;241m.\u001b[39m_iterator \u001b[38;5;241m=\u001b[39m \u001b[38;5;28mself\u001b[39m\u001b[38;5;241m.\u001b[39m_message_generator_v2()\n\u001b[1;32m   1200\u001b[0m \u001b[38;5;28;01mtry\u001b[39;00m:\n\u001b[0;32m-> 1201\u001b[0m     \u001b[38;5;28;01mreturn\u001b[39;00m \u001b[38;5;28;43mnext\u001b[39;49m\u001b[43m(\u001b[49m\u001b[38;5;28;43mself\u001b[39;49m\u001b[38;5;241;43m.\u001b[39;49m\u001b[43m_iterator\u001b[49m\u001b[43m)\u001b[49m\n\u001b[1;32m   1202\u001b[0m \u001b[38;5;28;01mexcept\u001b[39;00m \u001b[38;5;167;01mStopIteration\u001b[39;00m:\n\u001b[1;32m   1203\u001b[0m     \u001b[38;5;28mself\u001b[39m\u001b[38;5;241m.\u001b[39m_iterator \u001b[38;5;241m=\u001b[39m \u001b[38;5;28;01mNone\u001b[39;00m\n",
      "File \u001b[0;32m/Library/Frameworks/Python.framework/Versions/3.8/lib/python3.8/site-packages/kafka/consumer/group.py:1116\u001b[0m, in \u001b[0;36mKafkaConsumer._message_generator_v2\u001b[0;34m(self)\u001b[0m\n\u001b[1;32m   1114\u001b[0m \u001b[38;5;28;01mdef\u001b[39;00m \u001b[38;5;21m_message_generator_v2\u001b[39m(\u001b[38;5;28mself\u001b[39m):\n\u001b[1;32m   1115\u001b[0m     timeout_ms \u001b[38;5;241m=\u001b[39m \u001b[38;5;241m1000\u001b[39m \u001b[38;5;241m*\u001b[39m (\u001b[38;5;28mself\u001b[39m\u001b[38;5;241m.\u001b[39m_consumer_timeout \u001b[38;5;241m-\u001b[39m time\u001b[38;5;241m.\u001b[39mtime())\n\u001b[0;32m-> 1116\u001b[0m     record_map \u001b[38;5;241m=\u001b[39m \u001b[38;5;28;43mself\u001b[39;49m\u001b[38;5;241;43m.\u001b[39;49m\u001b[43mpoll\u001b[49m\u001b[43m(\u001b[49m\u001b[43mtimeout_ms\u001b[49m\u001b[38;5;241;43m=\u001b[39;49m\u001b[43mtimeout_ms\u001b[49m\u001b[43m,\u001b[49m\u001b[43m \u001b[49m\u001b[43mupdate_offsets\u001b[49m\u001b[38;5;241;43m=\u001b[39;49m\u001b[38;5;28;43;01mFalse\u001b[39;49;00m\u001b[43m)\u001b[49m\n\u001b[1;32m   1117\u001b[0m     \u001b[38;5;28;01mfor\u001b[39;00m tp, records \u001b[38;5;129;01min\u001b[39;00m six\u001b[38;5;241m.\u001b[39miteritems(record_map):\n\u001b[1;32m   1118\u001b[0m         \u001b[38;5;66;03m# Generators are stateful, and it is possible that the tp / records\u001b[39;00m\n\u001b[1;32m   1119\u001b[0m         \u001b[38;5;66;03m# here may become stale during iteration -- i.e., we seek to a\u001b[39;00m\n\u001b[1;32m   1120\u001b[0m         \u001b[38;5;66;03m# different offset, pause consumption, or lose assignment.\u001b[39;00m\n\u001b[1;32m   1121\u001b[0m         \u001b[38;5;28;01mfor\u001b[39;00m record \u001b[38;5;129;01min\u001b[39;00m records:\n\u001b[1;32m   1122\u001b[0m             \u001b[38;5;66;03m# is_fetchable(tp) should handle assignment changes and offset\u001b[39;00m\n\u001b[1;32m   1123\u001b[0m             \u001b[38;5;66;03m# resets; for all other changes (e.g., seeks) we'll rely on the\u001b[39;00m\n\u001b[1;32m   1124\u001b[0m             \u001b[38;5;66;03m# outer function destroying the existing iterator/generator\u001b[39;00m\n\u001b[1;32m   1125\u001b[0m             \u001b[38;5;66;03m# via self._iterator = None\u001b[39;00m\n",
      "File \u001b[0;32m/Library/Frameworks/Python.framework/Versions/3.8/lib/python3.8/site-packages/kafka/consumer/group.py:655\u001b[0m, in \u001b[0;36mKafkaConsumer.poll\u001b[0;34m(self, timeout_ms, max_records, update_offsets)\u001b[0m\n\u001b[1;32m    653\u001b[0m remaining \u001b[38;5;241m=\u001b[39m timeout_ms\n\u001b[1;32m    654\u001b[0m \u001b[38;5;28;01mwhile\u001b[39;00m \u001b[38;5;28;01mTrue\u001b[39;00m:\n\u001b[0;32m--> 655\u001b[0m     records \u001b[38;5;241m=\u001b[39m \u001b[38;5;28;43mself\u001b[39;49m\u001b[38;5;241;43m.\u001b[39;49m\u001b[43m_poll_once\u001b[49m\u001b[43m(\u001b[49m\u001b[43mremaining\u001b[49m\u001b[43m,\u001b[49m\u001b[43m \u001b[49m\u001b[43mmax_records\u001b[49m\u001b[43m,\u001b[49m\u001b[43m \u001b[49m\u001b[43mupdate_offsets\u001b[49m\u001b[38;5;241;43m=\u001b[39;49m\u001b[43mupdate_offsets\u001b[49m\u001b[43m)\u001b[49m\n\u001b[1;32m    656\u001b[0m     \u001b[38;5;28;01mif\u001b[39;00m records:\n\u001b[1;32m    657\u001b[0m         \u001b[38;5;28;01mreturn\u001b[39;00m records\n",
      "File \u001b[0;32m/Library/Frameworks/Python.framework/Versions/3.8/lib/python3.8/site-packages/kafka/consumer/group.py:702\u001b[0m, in \u001b[0;36mKafkaConsumer._poll_once\u001b[0;34m(self, timeout_ms, max_records, update_offsets)\u001b[0m\n\u001b[1;32m    699\u001b[0m     \u001b[38;5;28mself\u001b[39m\u001b[38;5;241m.\u001b[39m_client\u001b[38;5;241m.\u001b[39mpoll(timeout_ms\u001b[38;5;241m=\u001b[39m\u001b[38;5;241m0\u001b[39m)\n\u001b[1;32m    701\u001b[0m timeout_ms \u001b[38;5;241m=\u001b[39m \u001b[38;5;28mmin\u001b[39m(timeout_ms, \u001b[38;5;28mself\u001b[39m\u001b[38;5;241m.\u001b[39m_coordinator\u001b[38;5;241m.\u001b[39mtime_to_next_poll() \u001b[38;5;241m*\u001b[39m \u001b[38;5;241m1000\u001b[39m)\n\u001b[0;32m--> 702\u001b[0m \u001b[38;5;28;43mself\u001b[39;49m\u001b[38;5;241;43m.\u001b[39;49m\u001b[43m_client\u001b[49m\u001b[38;5;241;43m.\u001b[39;49m\u001b[43mpoll\u001b[49m\u001b[43m(\u001b[49m\u001b[43mtimeout_ms\u001b[49m\u001b[38;5;241;43m=\u001b[39;49m\u001b[43mtimeout_ms\u001b[49m\u001b[43m)\u001b[49m\n\u001b[1;32m    703\u001b[0m \u001b[38;5;66;03m# after the long poll, we should check whether the group needs to rebalance\u001b[39;00m\n\u001b[1;32m    704\u001b[0m \u001b[38;5;66;03m# prior to returning data so that the group can stabilize faster\u001b[39;00m\n\u001b[1;32m    705\u001b[0m \u001b[38;5;28;01mif\u001b[39;00m \u001b[38;5;28mself\u001b[39m\u001b[38;5;241m.\u001b[39m_coordinator\u001b[38;5;241m.\u001b[39mneed_rejoin():\n",
      "File \u001b[0;32m/Library/Frameworks/Python.framework/Versions/3.8/lib/python3.8/site-packages/kafka/client_async.py:602\u001b[0m, in \u001b[0;36mKafkaClient.poll\u001b[0;34m(self, timeout_ms, future)\u001b[0m\n\u001b[1;32m    599\u001b[0m             timeout \u001b[38;5;241m=\u001b[39m \u001b[38;5;28mmin\u001b[39m(timeout, \u001b[38;5;28mself\u001b[39m\u001b[38;5;241m.\u001b[39mconfig[\u001b[38;5;124m'\u001b[39m\u001b[38;5;124mretry_backoff_ms\u001b[39m\u001b[38;5;124m'\u001b[39m])\n\u001b[1;32m    600\u001b[0m         timeout \u001b[38;5;241m=\u001b[39m \u001b[38;5;28mmax\u001b[39m(\u001b[38;5;241m0\u001b[39m, timeout)  \u001b[38;5;66;03m# avoid negative timeouts\u001b[39;00m\n\u001b[0;32m--> 602\u001b[0m     \u001b[38;5;28;43mself\u001b[39;49m\u001b[38;5;241;43m.\u001b[39;49m\u001b[43m_poll\u001b[49m\u001b[43m(\u001b[49m\u001b[43mtimeout\u001b[49m\u001b[43m \u001b[49m\u001b[38;5;241;43m/\u001b[39;49m\u001b[43m \u001b[49m\u001b[38;5;241;43m1000\u001b[39;49m\u001b[43m)\u001b[49m\n\u001b[1;32m    604\u001b[0m \u001b[38;5;66;03m# called without the lock to avoid deadlock potential\u001b[39;00m\n\u001b[1;32m    605\u001b[0m \u001b[38;5;66;03m# if handlers need to acquire locks\u001b[39;00m\n\u001b[1;32m    606\u001b[0m responses\u001b[38;5;241m.\u001b[39mextend(\u001b[38;5;28mself\u001b[39m\u001b[38;5;241m.\u001b[39m_fire_pending_completed_requests())\n",
      "File \u001b[0;32m/Library/Frameworks/Python.framework/Versions/3.8/lib/python3.8/site-packages/kafka/client_async.py:634\u001b[0m, in \u001b[0;36mKafkaClient._poll\u001b[0;34m(self, timeout)\u001b[0m\n\u001b[1;32m    631\u001b[0m \u001b[38;5;28mself\u001b[39m\u001b[38;5;241m.\u001b[39m_register_send_sockets()\n\u001b[1;32m    633\u001b[0m start_select \u001b[38;5;241m=\u001b[39m time\u001b[38;5;241m.\u001b[39mtime()\n\u001b[0;32m--> 634\u001b[0m ready \u001b[38;5;241m=\u001b[39m \u001b[38;5;28;43mself\u001b[39;49m\u001b[38;5;241;43m.\u001b[39;49m\u001b[43m_selector\u001b[49m\u001b[38;5;241;43m.\u001b[39;49m\u001b[43mselect\u001b[49m\u001b[43m(\u001b[49m\u001b[43mtimeout\u001b[49m\u001b[43m)\u001b[49m\n\u001b[1;32m    635\u001b[0m end_select \u001b[38;5;241m=\u001b[39m time\u001b[38;5;241m.\u001b[39mtime()\n\u001b[1;32m    636\u001b[0m \u001b[38;5;28;01mif\u001b[39;00m \u001b[38;5;28mself\u001b[39m\u001b[38;5;241m.\u001b[39m_sensors:\n",
      "File \u001b[0;32m/Library/Frameworks/Python.framework/Versions/3.8/lib/python3.8/selectors.py:558\u001b[0m, in \u001b[0;36mKqueueSelector.select\u001b[0;34m(self, timeout)\u001b[0m\n\u001b[1;32m    556\u001b[0m ready \u001b[38;5;241m=\u001b[39m []\n\u001b[1;32m    557\u001b[0m \u001b[38;5;28;01mtry\u001b[39;00m:\n\u001b[0;32m--> 558\u001b[0m     kev_list \u001b[38;5;241m=\u001b[39m \u001b[38;5;28;43mself\u001b[39;49m\u001b[38;5;241;43m.\u001b[39;49m\u001b[43m_selector\u001b[49m\u001b[38;5;241;43m.\u001b[39;49m\u001b[43mcontrol\u001b[49m\u001b[43m(\u001b[49m\u001b[38;5;28;43;01mNone\u001b[39;49;00m\u001b[43m,\u001b[49m\u001b[43m \u001b[49m\u001b[43mmax_ev\u001b[49m\u001b[43m,\u001b[49m\u001b[43m \u001b[49m\u001b[43mtimeout\u001b[49m\u001b[43m)\u001b[49m\n\u001b[1;32m    559\u001b[0m \u001b[38;5;28;01mexcept\u001b[39;00m \u001b[38;5;167;01mInterruptedError\u001b[39;00m:\n\u001b[1;32m    560\u001b[0m     \u001b[38;5;28;01mreturn\u001b[39;00m ready\n",
      "\u001b[0;31mKeyboardInterrupt\u001b[0m: "
     ]
    }
   ],
   "source": [
    "from kafka import KafkaConsumer\n",
    "import json\n",
    "\n",
    "# Create a Kafka consumer\n",
    "consumer = KafkaConsumer('temperature_readings',\n",
    "                         bootstrap_servers='localhost:9092',\n",
    "                         auto_offset_reset='earliest',\n",
    "                         value_deserializer=lambda x: json.loads(x.decode('utf-8')))\n",
    "\n",
    "# Process messages\n",
    "for message in consumer:\n",
    "    data = message.value\n",
    "    temperature_fahrenheit = data['temperature_celsius'] * 9/5 + 32\n",
    "    print(f\"Received sensor data: {data}\")\n",
    "    print(f\"Converted temperature: {temperature_fahrenheit:.2f}°F\")\n"
   ]
  },
  {
   "cell_type": "code",
   "execution_count": 10,
   "metadata": {},
   "outputs": [
    {
     "name": "stdout",
     "output_type": "stream",
     "text": [
      "Topic 'temperature_readings' deleted successfully.\n"
     ]
    }
   ],
   "source": [
    "from kafka.admin import KafkaAdminClient, NewTopic\n",
    "\n",
    "# Create an instance of KafkaAdminClient\n",
    "admin_client = KafkaAdminClient(\n",
    "    bootstrap_servers=\"localhost:9092\",\n",
    "    client_id='delete-topic-example'\n",
    ")\n",
    "\n",
    "# Define the topic to delete\n",
    "topic_name = 'temperature_readings'\n",
    "\n",
    "# Delete the topic\n",
    "try:\n",
    "    admin_client.delete_topics([topic_name])\n",
    "    print(f\"Topic '{topic_name}' deleted successfully.\")\n",
    "except Exception as e:\n",
    "    print(f\"Failed to delete topic '{topic_name}': {e}\")\n",
    "\n",
    "# Close the admin client\n",
    "admin_client.close()\n"
   ]
  },
  {
   "cell_type": "code",
   "execution_count": 11,
   "metadata": {},
   "outputs": [
    {
     "name": "stdout",
     "output_type": "stream",
     "text": [
      "Sent: {'sensor_id': 'sensor_1', 'temperature_celsius': 25.62798379907189}\n",
      "Received sensor data: {'sensor_id': 'sensor_1', 'temperature_celsius': 25.62798379907189}\n",
      "Converted temperature: 78.13°F\n",
      "Received sensor data: {'sensor_id': 'sensor_1', 'temperature_celsius': 25.62798379907189}\n",
      "Converted temperature: 78.13°F\n",
      "Received sensor data: {'sensor_id': 'sensor_1', 'temperature_celsius': 25.62798379907189}\n",
      "Converted temperature: 78.13°F\n",
      "Received sensor data: {'sensor_id': 'sensor_1', 'temperature_celsius': 25.62798379907189}\n",
      "Converted temperature: 78.13°F\n",
      "Received sensor data: {'sensor_id': 'sensor_1', 'temperature_celsius': 25.62798379907189}\n",
      "Converted temperature: 78.13°F\n",
      "Received sensor data: {'sensor_id': 'sensor_1', 'temperature_celsius': 25.62798379907189}\n",
      "Converted temperature: 78.13°F\n",
      "Sent: {'sensor_id': 'sensor_1', 'temperature_celsius': 21.69774781591713}\n",
      "Received sensor data: {'sensor_id': 'sensor_1', 'temperature_celsius': 21.69774781591713}\n",
      "Converted temperature: 71.06°F\n",
      "Received sensor data: {'sensor_id': 'sensor_1', 'temperature_celsius': 21.69774781591713}\n",
      "Converted temperature: 71.06°F\n",
      "Received sensor data: {'sensor_id': 'sensor_1', 'temperature_celsius': 21.69774781591713}\n",
      "Converted temperature: 71.06°F\n",
      "Received sensor data: {'sensor_id': 'sensor_1', 'temperature_celsius': 21.69774781591713}\n",
      "Converted temperature: 71.06°F\n",
      "Received sensor data: {'sensor_id': 'sensor_1', 'temperature_celsius': 21.69774781591713}\n",
      "Converted temperature: 71.06°F\n",
      "Received sensor data: {'sensor_id': 'sensor_1', 'temperature_celsius': 21.69774781591713}\n",
      "Converted temperature: 71.06°F\n",
      "Sent: {'sensor_id': 'sensor_1', 'temperature_celsius': 25.318277217706097}\n",
      "Received sensor data: {'sensor_id': 'sensor_1', 'temperature_celsius': 25.318277217706097}\n",
      "Converted temperature: 77.57°F\n",
      "Received sensor data: {'sensor_id': 'sensor_1', 'temperature_celsius': 25.318277217706097}\n",
      "Converted temperature: 77.57°F\n",
      "Received sensor data: {'sensor_id': 'sensor_1', 'temperature_celsius': 25.318277217706097}\n",
      "Converted temperature: 77.57°F\n",
      "Received sensor data: {'sensor_id': 'sensor_1', 'temperature_celsius': 25.318277217706097}\n",
      "Converted temperature: 77.57°F\n",
      "Received sensor data: {'sensor_id': 'sensor_1', 'temperature_celsius': 25.318277217706097}\n",
      "Converted temperature: 77.57°F\n",
      "Received sensor data: {'sensor_id': 'sensor_1', 'temperature_celsius': 25.318277217706097}\n",
      "Converted temperature: 77.57°F\n"
     ]
    },
    {
     "ename": "KeyboardInterrupt",
     "evalue": "",
     "output_type": "error",
     "traceback": [
      "\u001b[0;31m---------------------------------------------------------------------------\u001b[0m",
      "\u001b[0;31mKeyboardInterrupt\u001b[0m                         Traceback (most recent call last)",
      "Cell \u001b[0;32mIn[11], line 37\u001b[0m\n\u001b[1;32m     34\u001b[0m producer_thread\u001b[38;5;241m.\u001b[39mstart()\n\u001b[1;32m     35\u001b[0m consumer_thread\u001b[38;5;241m.\u001b[39mstart()\n\u001b[0;32m---> 37\u001b[0m \u001b[43mproducer_thread\u001b[49m\u001b[38;5;241;43m.\u001b[39;49m\u001b[43mjoin\u001b[49m\u001b[43m(\u001b[49m\u001b[43m)\u001b[49m\n\u001b[1;32m     38\u001b[0m consumer_thread\u001b[38;5;241m.\u001b[39mjoin()\n",
      "File \u001b[0;32m/Library/Frameworks/Python.framework/Versions/3.8/lib/python3.8/threading.py:1011\u001b[0m, in \u001b[0;36mThread.join\u001b[0;34m(self, timeout)\u001b[0m\n\u001b[1;32m   1008\u001b[0m     \u001b[38;5;28;01mraise\u001b[39;00m \u001b[38;5;167;01mRuntimeError\u001b[39;00m(\u001b[38;5;124m\"\u001b[39m\u001b[38;5;124mcannot join current thread\u001b[39m\u001b[38;5;124m\"\u001b[39m)\n\u001b[1;32m   1010\u001b[0m \u001b[38;5;28;01mif\u001b[39;00m timeout \u001b[38;5;129;01mis\u001b[39;00m \u001b[38;5;28;01mNone\u001b[39;00m:\n\u001b[0;32m-> 1011\u001b[0m     \u001b[38;5;28;43mself\u001b[39;49m\u001b[38;5;241;43m.\u001b[39;49m\u001b[43m_wait_for_tstate_lock\u001b[49m\u001b[43m(\u001b[49m\u001b[43m)\u001b[49m\n\u001b[1;32m   1012\u001b[0m \u001b[38;5;28;01melse\u001b[39;00m:\n\u001b[1;32m   1013\u001b[0m     \u001b[38;5;66;03m# the behavior of a negative timeout isn't documented, but\u001b[39;00m\n\u001b[1;32m   1014\u001b[0m     \u001b[38;5;66;03m# historically .join(timeout=x) for x<0 has acted as if timeout=0\u001b[39;00m\n\u001b[1;32m   1015\u001b[0m     \u001b[38;5;28mself\u001b[39m\u001b[38;5;241m.\u001b[39m_wait_for_tstate_lock(timeout\u001b[38;5;241m=\u001b[39m\u001b[38;5;28mmax\u001b[39m(timeout, \u001b[38;5;241m0\u001b[39m))\n",
      "File \u001b[0;32m/Library/Frameworks/Python.framework/Versions/3.8/lib/python3.8/threading.py:1027\u001b[0m, in \u001b[0;36mThread._wait_for_tstate_lock\u001b[0;34m(self, block, timeout)\u001b[0m\n\u001b[1;32m   1025\u001b[0m \u001b[38;5;28;01mif\u001b[39;00m lock \u001b[38;5;129;01mis\u001b[39;00m \u001b[38;5;28;01mNone\u001b[39;00m:  \u001b[38;5;66;03m# already determined that the C code is done\u001b[39;00m\n\u001b[1;32m   1026\u001b[0m     \u001b[38;5;28;01massert\u001b[39;00m \u001b[38;5;28mself\u001b[39m\u001b[38;5;241m.\u001b[39m_is_stopped\n\u001b[0;32m-> 1027\u001b[0m \u001b[38;5;28;01melif\u001b[39;00m \u001b[43mlock\u001b[49m\u001b[38;5;241;43m.\u001b[39;49m\u001b[43macquire\u001b[49m\u001b[43m(\u001b[49m\u001b[43mblock\u001b[49m\u001b[43m,\u001b[49m\u001b[43m \u001b[49m\u001b[43mtimeout\u001b[49m\u001b[43m)\u001b[49m:\n\u001b[1;32m   1028\u001b[0m     lock\u001b[38;5;241m.\u001b[39mrelease()\n\u001b[1;32m   1029\u001b[0m     \u001b[38;5;28mself\u001b[39m\u001b[38;5;241m.\u001b[39m_stop()\n",
      "\u001b[0;31mKeyboardInterrupt\u001b[0m: "
     ]
    }
   ],
   "source": [
    "import threading\n",
    "from kafka import KafkaProducer, KafkaConsumer\n",
    "import json\n",
    "import time\n",
    "import random\n",
    "\n",
    "def produce():\n",
    "    producer = KafkaProducer(bootstrap_servers='localhost:9092', \n",
    "                             value_serializer=lambda v: json.dumps(v).encode('utf-8'))\n",
    "    for _ in range(3):\n",
    "        temperature_data = {'sensor_id': 'sensor_1', 'temperature_celsius': random.uniform(20.0, 30.0)}\n",
    "        producer.send('temperature_readings', temperature_data)\n",
    "        print(f\"Sent: {temperature_data}\")\n",
    "        time.sleep(5)\n",
    "    producer.flush()\n",
    "    producer.close()\n",
    "\n",
    "def consume():\n",
    "    consumer = KafkaConsumer('temperature_readings',\n",
    "                             bootstrap_servers='localhost:9092',\n",
    "                             auto_offset_reset='earliest',\n",
    "                             value_deserializer=lambda x: json.loads(x.decode('utf-8')))\n",
    "    for message in consumer:\n",
    "        data = message.value\n",
    "        temperature_fahrenheit = data['temperature_celsius'] * 9/5 + 32\n",
    "        print(f\"Received sensor data: {data}\")\n",
    "        print(f\"Converted temperature: {temperature_fahrenheit:.2f}°F\")\n",
    "\n",
    "# Run producer and consumer in separate threads\n",
    "producer_thread = threading.Thread(target=produce)\n",
    "consumer_thread = threading.Thread(target=consume)\n",
    "\n",
    "producer_thread.start()\n",
    "consumer_thread.start()\n",
    "\n",
    "producer_thread.join()\n",
    "consumer_thread.join()\n"
   ]
  },
  {
   "cell_type": "code",
   "execution_count": null,
   "metadata": {},
   "outputs": [],
   "source": []
  }
 ],
 "metadata": {
  "kernelspec": {
   "display_name": "Python 3",
   "language": "python",
   "name": "python3"
  },
  "language_info": {
   "codemirror_mode": {
    "name": "ipython",
    "version": 3
   },
   "file_extension": ".py",
   "mimetype": "text/x-python",
   "name": "python",
   "nbconvert_exporter": "python",
   "pygments_lexer": "ipython3",
   "version": "3.8.4"
  }
 },
 "nbformat": 4,
 "nbformat_minor": 2
}
