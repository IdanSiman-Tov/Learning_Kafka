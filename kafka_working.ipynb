{
 "cells": [
  {
   "cell_type": "code",
   "execution_count": 6,
   "metadata": {},
   "outputs": [
    {
     "name": "stdout",
     "output_type": "stream",
     "text": [
      "Message sent successfully!\n"
     ]
    }
   ],
   "source": [
    "from kafka import KafkaProducer\n",
    "\n",
    "# Create a Kafka producer\n",
    "producer = KafkaProducer(bootstrap_servers='localhost:9092')\n",
    "\n",
    "# Send a simple message to a test topic\n",
    "producer.send('test_topic', b'Hello, Kafka!')\n",
    "\n",
    "# Flush to ensure the message is sent\n",
    "producer.flush()\n",
    "\n",
    "# Close the producer\n",
    "producer.close()\n",
    "\n",
    "print(\"Message sent successfully!\")\n"
   ]
  },
  {
   "cell_type": "markdown",
   "metadata": {},
   "source": [
    "consumer_timeout_ms: This parameter sets a timeout (in milliseconds) after which the consumer will stop if no new messages arrive. In this example, the consumer will stop if it doesn’t receive any messages for 1 second.\n",
    "\n",
    "for message in consumer:: The loop will consume and print messages until the timeout is reached, after which the consumer will stop."
   ]
  },
  {
   "cell_type": "code",
   "execution_count": 9,
   "metadata": {},
   "outputs": [
    {
     "name": "stdout",
     "output_type": "stream",
     "text": [
      "Received message: Hello, Kafka!\n",
      "Received message: This is a test message\n",
      "Received message: This is a test message\n",
      "Received message: This is a test message\n",
      "Received message: Hello, Kafka!\n",
      "No more messages. Consumer stopped.\n"
     ]
    }
   ],
   "source": [
    "from kafka import KafkaConsumer\n",
    "import time\n",
    "\n",
    "# Create a Kafka consumer with a timeout\n",
    "consumer = KafkaConsumer('test_topic', \n",
    "                         bootstrap_servers='localhost:9092', \n",
    "                         auto_offset_reset='earliest', \n",
    "                         consumer_timeout_ms=1000)  # 1 second timeout\n",
    "\n",
    "# Consume messages until no more are available\n",
    "for message in consumer:\n",
    "    print(f\"Received message: {message.value.decode('utf-8')}\")\n",
    "\n",
    "print(\"No more messages. Consumer stopped.\")\n"
   ]
  },
  {
   "cell_type": "code",
   "execution_count": null,
   "metadata": {},
   "outputs": [],
   "source": []
  }
 ],
 "metadata": {
  "kernelspec": {
   "display_name": "Python 3",
   "language": "python",
   "name": "python3"
  },
  "language_info": {
   "codemirror_mode": {
    "name": "ipython",
    "version": 3
   },
   "file_extension": ".py",
   "mimetype": "text/x-python",
   "name": "python",
   "nbconvert_exporter": "python",
   "pygments_lexer": "ipython3",
   "version": "3.8.4"
  }
 },
 "nbformat": 4,
 "nbformat_minor": 2
}
